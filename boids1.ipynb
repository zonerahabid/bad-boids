{
 "cells": [
  {
   "cell_type": "code",
   "execution_count": 1,
   "metadata": {},
   "outputs": [
    {
     "data": {
      "text/plain": [
       "<Figure size 640x480 with 1 Axes>"
      ]
     },
     "metadata": {},
     "output_type": "display_data"
    }
   ],
   "source": [
    "from matplotlib import pyplot as plt\n",
    "from matplotlib import animation\n",
    "import random\n",
    "\n",
    "# Deliberately terrible code for teaching purposes\n",
    "\n",
    "import numpy as np\n",
    "boids_x = np.random.uniform(-450.0,50.0,50)\n",
    "boids_y = np.random.uniform(300.0,600.0,50) \n",
    "boid_x_velocities = np.random.uniform(0,10.0,50)\n",
    "boid_y_velocities = np.random.uniform(-20.0,20.0,50)\n",
    "boids = (boids_x,boids_y,boid_x_velocities,boid_y_velocities)\n",
    "\n",
    "\n",
    "\n",
    "def update_boids(boids):\n",
    "\txs,ys,xvs,yvs=boids\n",
    "\t# Fly towards the middle\n",
    "\tfor i in range(len(xs)):\n",
    "\t\tfor j in range(len(xs)):\n",
    "\t\t\txvs[i]=xvs[i]+(xs[j]-xs[i])*0.01/len(xs)\n",
    "\tfor i in range(len(xs)):\n",
    "\t\tfor j in range(len(xs)):\n",
    "\t\t\tyvs[i]=yvs[i]+(ys[j]-ys[i])*0.01/len(xs)\n",
    "\t# Fly away from nearby boids\n",
    "\tfor i in range(len(xs)):\n",
    "\t\tfor j in range(len(xs)):\n",
    "\t\t\tif (xs[j]-xs[i])**2 + (ys[j]-ys[i])**2 < 100:\n",
    "\t\t\t\txvs[i]=xvs[i]+(xs[i]-xs[j])\n",
    "\t\t\t\tyvs[i]=yvs[i]+(ys[i]-ys[j])\n",
    "\t# Try to match speed with nearby boids\n",
    "\tfor i in range(len(xs)):\n",
    "\t\tfor j in range(len(xs)):\n",
    "\t\t\tif (xs[j]-xs[i])**2 + (ys[j]-ys[i])**2 < 10000:\n",
    "\t\t\t\txvs[i]=xvs[i]+(xvs[j]-xvs[i])*0.125/len(xs)\n",
    "\t\t\t\tyvs[i]=yvs[i]+(yvs[j]-yvs[i])*0.125/len(xs)\n",
    "\t# Move according to velocities\n",
    "\tfor i in range(len(xs)):\n",
    "\t\txs[i]=xs[i]+xvs[i]\n",
    "\t\tys[i]=ys[i]+yvs[i]\n",
    "\n",
    "\n",
    "figure=plt.figure()\n",
    "axes=plt.axes(xlim=(-500,1500), ylim=(-500,1500))\n",
    "scatter=axes.scatter(boids[0],boids[1])\n",
    "\n",
    "def animate(frame):\n",
    "   update_boids(boids)\n",
    "   scatter.set_offsets(list(zip(boids[0],boids[1])))\n",
    "\n",
    "\n",
    "anim = animation.FuncAnimation(figure, animate,\n",
    "                               frames=50, interval=50)\n",
    "\n",
    "if __name__ == \"__main__\":\n",
    "    plt.show()\n"
   ]
  },
  {
   "cell_type": "code",
   "execution_count": null,
   "metadata": {},
   "outputs": [],
   "source": []
  }
 ],
 "metadata": {
  "kernelspec": {
   "display_name": "Python 3",
   "language": "python",
   "name": "python3"
  },
  "language_info": {
   "codemirror_mode": {
    "name": "ipython",
    "version": 3
   },
   "file_extension": ".py",
   "mimetype": "text/x-python",
   "name": "python",
   "nbconvert_exporter": "python",
   "pygments_lexer": "ipython3",
   "version": "3.7.3"
  }
 },
 "nbformat": 4,
 "nbformat_minor": 2
}
